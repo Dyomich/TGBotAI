{
  "nbformat": 4,
  "nbformat_minor": 0,
  "metadata": {
    "colab": {
      "name": "Simple_bot.ipynb",
      "provenance": [],
      "collapsed_sections": [],
      "toc_visible": true
    },
    "kernelspec": {
      "name": "python3",
      "display_name": "Python 3"
    },
    "accelerator": "TPU"
  },
  "cells": [
    {
      "cell_type": "markdown",
      "metadata": {
        "id": "UQ87fEPUtBXv",
        "colab_type": "text"
      },
      "source": [
        "#Загрузка модулей\n"
      ]
    },
    {
      "cell_type": "code",
      "metadata": {
        "id": "Tv7MDz22tGK3",
        "colab_type": "code",
        "outputId": "4be77c4b-b5c2-41cd-f4a1-baaf2454223b",
        "colab": {
          "base_uri": "https://localhost:8080/",
          "height": 153
        }
      },
      "source": [
        "!pip install python-telegram-bot --upgrade"
      ],
      "execution_count": 0,
      "outputs": [
        {
          "output_type": "stream",
          "text": [
            "Requirement already up-to-date: python-telegram-bot in /usr/local/lib/python3.6/dist-packages (12.3.0)\n",
            "Requirement already satisfied, skipping upgrade: tornado>=5.1 in /usr/local/lib/python3.6/dist-packages (from python-telegram-bot) (6.0.3)\n",
            "Requirement already satisfied, skipping upgrade: certifi in /usr/local/lib/python3.6/dist-packages (from python-telegram-bot) (2019.11.28)\n",
            "Requirement already satisfied, skipping upgrade: future>=0.16.0 in /usr/local/lib/python3.6/dist-packages (from python-telegram-bot) (0.16.0)\n",
            "Requirement already satisfied, skipping upgrade: cryptography in /usr/local/lib/python3.6/dist-packages (from python-telegram-bot) (2.8)\n",
            "Requirement already satisfied, skipping upgrade: six>=1.4.1 in /usr/local/lib/python3.6/dist-packages (from cryptography->python-telegram-bot) (1.12.0)\n",
            "Requirement already satisfied, skipping upgrade: cffi!=1.11.3,>=1.8 in /usr/local/lib/python3.6/dist-packages (from cryptography->python-telegram-bot) (1.13.2)\n",
            "Requirement already satisfied, skipping upgrade: pycparser in /usr/local/lib/python3.6/dist-packages (from cffi!=1.11.3,>=1.8->cryptography->python-telegram-bot) (2.19)\n"
          ],
          "name": "stdout"
        }
      ]
    },
    {
      "cell_type": "code",
      "metadata": {
        "id": "szu9OW9QDIaN",
        "colab_type": "code",
        "outputId": "a7ceaccf-13a0-4a44-ecb6-56d925242067",
        "colab": {
          "base_uri": "https://localhost:8080/",
          "height": 340
        }
      },
      "source": [
        "!pip install -U ipykernel"
      ],
      "execution_count": 0,
      "outputs": [
        {
          "output_type": "stream",
          "text": [
            "Requirement already up-to-date: ipykernel in /usr/local/lib/python3.6/dist-packages (5.1.4)\n",
            "Requirement already satisfied, skipping upgrade: jupyter-client in /usr/local/lib/python3.6/dist-packages (from ipykernel) (5.3.4)\n",
            "Requirement already satisfied, skipping upgrade: tornado>=4.2 in /usr/local/lib/python3.6/dist-packages (from ipykernel) (6.0.3)\n",
            "Requirement already satisfied, skipping upgrade: traitlets>=4.1.0 in /usr/local/lib/python3.6/dist-packages (from ipykernel) (4.3.3)\n",
            "Requirement already satisfied, skipping upgrade: ipython>=5.0.0 in /usr/local/lib/python3.6/dist-packages (from ipykernel) (5.5.0)\n",
            "Requirement already satisfied, skipping upgrade: jupyter-core>=4.6.0 in /usr/local/lib/python3.6/dist-packages (from jupyter-client->ipykernel) (4.6.1)\n",
            "Requirement already satisfied, skipping upgrade: python-dateutil>=2.1 in /usr/local/lib/python3.6/dist-packages (from jupyter-client->ipykernel) (2.6.1)\n",
            "Requirement already satisfied, skipping upgrade: pyzmq>=13 in /usr/local/lib/python3.6/dist-packages (from jupyter-client->ipykernel) (17.0.0)\n",
            "Requirement already satisfied, skipping upgrade: ipython-genutils in /usr/local/lib/python3.6/dist-packages (from traitlets>=4.1.0->ipykernel) (0.2.0)\n",
            "Requirement already satisfied, skipping upgrade: decorator in /usr/local/lib/python3.6/dist-packages (from traitlets>=4.1.0->ipykernel) (4.4.1)\n",
            "Requirement already satisfied, skipping upgrade: six in /usr/local/lib/python3.6/dist-packages (from traitlets>=4.1.0->ipykernel) (1.12.0)\n",
            "Requirement already satisfied, skipping upgrade: simplegeneric>0.8 in /usr/local/lib/python3.6/dist-packages (from ipython>=5.0.0->ipykernel) (0.8.1)\n",
            "Requirement already satisfied, skipping upgrade: pygments in /usr/local/lib/python3.6/dist-packages (from ipython>=5.0.0->ipykernel) (2.1.3)\n",
            "Requirement already satisfied, skipping upgrade: pickleshare in /usr/local/lib/python3.6/dist-packages (from ipython>=5.0.0->ipykernel) (0.7.5)\n",
            "Requirement already satisfied, skipping upgrade: prompt-toolkit<2.0.0,>=1.0.4 in /usr/local/lib/python3.6/dist-packages (from ipython>=5.0.0->ipykernel) (1.0.18)\n",
            "Requirement already satisfied, skipping upgrade: setuptools>=18.5 in /usr/local/lib/python3.6/dist-packages (from ipython>=5.0.0->ipykernel) (45.1.0)\n",
            "Requirement already satisfied, skipping upgrade: pexpect; sys_platform != \"win32\" in /usr/local/lib/python3.6/dist-packages (from ipython>=5.0.0->ipykernel) (4.8.0)\n",
            "Requirement already satisfied, skipping upgrade: wcwidth in /usr/local/lib/python3.6/dist-packages (from prompt-toolkit<2.0.0,>=1.0.4->ipython>=5.0.0->ipykernel) (0.1.8)\n",
            "Requirement already satisfied, skipping upgrade: ptyprocess>=0.5 in /usr/local/lib/python3.6/dist-packages (from pexpect; sys_platform != \"win32\"->ipython>=5.0.0->ipykernel) (0.6.0)\n"
          ],
          "name": "stdout"
        }
      ]
    },
    {
      "cell_type": "code",
      "metadata": {
        "id": "2x4TihuqoYzb",
        "colab_type": "code",
        "outputId": "bc1fba00-cc42-43f6-ee5a-4a7e814429ad",
        "colab": {
          "base_uri": "https://localhost:8080/",
          "height": 153
        }
      },
      "source": [
        "!pip3 install torch torchvision\n",
        "!pip3 install pillow==4.1.1"
      ],
      "execution_count": 0,
      "outputs": [
        {
          "output_type": "stream",
          "text": [
            "Requirement already satisfied: torch in /usr/local/lib/python3.6/dist-packages (1.4.0)\n",
            "Requirement already satisfied: torchvision in /usr/local/lib/python3.6/dist-packages (0.5.0)\n",
            "Requirement already satisfied: numpy in /usr/local/lib/python3.6/dist-packages (from torchvision) (1.17.5)\n",
            "Requirement already satisfied: pillow>=4.1.1 in /usr/local/lib/python3.6/dist-packages (from torchvision) (4.1.1)\n",
            "Requirement already satisfied: six in /usr/local/lib/python3.6/dist-packages (from torchvision) (1.12.0)\n",
            "Requirement already satisfied: olefile in /usr/local/lib/python3.6/dist-packages (from pillow>=4.1.1->torchvision) (0.46)\n",
            "Requirement already satisfied: pillow==4.1.1 in /usr/local/lib/python3.6/dist-packages (4.1.1)\n",
            "Requirement already satisfied: olefile in /usr/local/lib/python3.6/dist-packages (from pillow==4.1.1) (0.46)\n"
          ],
          "name": "stdout"
        }
      ]
    },
    {
      "cell_type": "markdown",
      "metadata": {
        "id": "2wA5L9hftJEM",
        "colab_type": "text"
      },
      "source": [
        "#Загрузка библиотек\n"
      ]
    },
    {
      "cell_type": "code",
      "metadata": {
        "id": "lEGd7hyUomVk",
        "colab_type": "code",
        "colab": {}
      },
      "source": [
        "%matplotlib inline\n",
        "from PIL import Image\n",
        "\n",
        "\n",
        "import torch\n",
        "import torch.nn as nn\n",
        "import torch.nn.functional as F\n",
        "import torch.optim as optim\n",
        "\n",
        "import matplotlib.pyplot as plt\n",
        "\n",
        "\n",
        "import torchvision.transforms as transforms\n",
        "import torchvision.models as models\n",
        "\n",
        "import copy"
      ],
      "execution_count": 0,
      "outputs": []
    },
    {
      "cell_type": "markdown",
      "metadata": {
        "id": "rLJD_UmMtPP6",
        "colab_type": "text"
      },
      "source": [
        "#Перенос стиля"
      ]
    },
    {
      "cell_type": "code",
      "metadata": {
        "id": "S3jIjcHwotqd",
        "colab_type": "code",
        "colab": {}
      },
      "source": [
        "imsize = 128\n",
        "\n",
        "loader = transforms.Compose([\n",
        "    transforms.Resize(imsize),  # нормируем размер изображения\n",
        "    transforms.CenterCrop(imsize),\n",
        "    transforms.ToTensor()])  # превращаем в удобный формат"
      ],
      "execution_count": 0,
      "outputs": []
    },
    {
      "cell_type": "code",
      "metadata": {
        "id": "KB7BFWDGouw6",
        "colab_type": "code",
        "colab": {}
      },
      "source": [
        "device = torch.device(\"cuda\" if torch.cuda.is_available() else \"cpu\")\n",
        "def image_loader(image_name):\n",
        "    image = Image.open(image_name)\n",
        "    image = loader(image).unsqueeze(0)\n",
        "    return image.to(device, torch.float)"
      ],
      "execution_count": 0,
      "outputs": []
    },
    {
      "cell_type": "markdown",
      "metadata": {
        "id": "XLxc4YKxtqvG",
        "colab_type": "text"
      },
      "source": [
        "##Доп. функции и классы"
      ]
    },
    {
      "cell_type": "code",
      "metadata": {
        "id": "XCftU00qo2jw",
        "colab_type": "code",
        "colab": {}
      },
      "source": [
        "unloader = transforms.ToPILImage() # тензор в кратинку  \n",
        "\n",
        "plt.ion() \n",
        "\n",
        "def imshow(tensor, title=None):\n",
        "    image = tensor.cpu().clone()   \n",
        "    image = image.squeeze(0)      # функция для отрисовки изображения\n",
        "    image = unloader(image)\n",
        "    plt.imshow(image)\n",
        "    if title is not None:\n",
        "        plt.title(title)\n",
        "    plt.pause(0.001) \n",
        "\n",
        "# отрисовка\n",
        "\n",
        "#plt.figure()\n",
        "#imshow(style_img, title='Style Image')\n",
        "\n",
        "#plt.figure()\n",
        "#imshow(content_img, title='Content Image')"
      ],
      "execution_count": 0,
      "outputs": []
    },
    {
      "cell_type": "code",
      "metadata": {
        "id": "EBllTeIco7jz",
        "colab_type": "code",
        "colab": {}
      },
      "source": [
        "class ContentLoss(nn.Module):\n",
        "\n",
        "        def __init__(self, target,):\n",
        "            super(ContentLoss, self).__init__()\n",
        "            # we 'detach' the target content from the tree used\n",
        "            # to dynamically compute the gradient: this is a stated value,\n",
        "            # not a variable. Otherwise the forward method of the criterion\n",
        "            # will throw an error.\n",
        "            self.target = target.detach()#это константа. Убираем ее из дерева вычеслений\n",
        "            self.loss = F.mse_loss(self.target, self.target )#to initialize with something\n",
        "\n",
        "        def forward(self, input):\n",
        "            self.loss = F.mse_loss(input, self.target)\n",
        "            return input"
      ],
      "execution_count": 0,
      "outputs": []
    },
    {
      "cell_type": "code",
      "metadata": {
        "id": "8-0M9M_2o85c",
        "colab_type": "code",
        "colab": {}
      },
      "source": [
        "def gram_matrix(input):\n",
        "        batch_size , h, w, f_map_num = input.size()  # batch size(=1)\n",
        "        # b=number of feature maps\n",
        "        # (h,w)=dimensions of a feature map (N=h*w)\n",
        "\n",
        "        features = input.view(batch_size * h, w * f_map_num)  # resise F_XL into \\hat F_XL\n",
        "\n",
        "        G = torch.mm(features, features.t())  # compute the gram product\n",
        "\n",
        "        # we 'normalize' the values of the gram matrix\n",
        "        # by dividing by the number of element in each feature maps.\n",
        "        return G.div(batch_size * h * w * f_map_num)"
      ],
      "execution_count": 0,
      "outputs": []
    },
    {
      "cell_type": "code",
      "metadata": {
        "id": "ckKPuhDSpAtJ",
        "colab_type": "code",
        "colab": {}
      },
      "source": [
        "class StyleLoss(nn.Module):\n",
        "        def __init__(self, target_feature):\n",
        "            super(StyleLoss, self).__init__()\n",
        "            self.target = gram_matrix(target_feature).detach()\n",
        "            self.loss = F.mse_loss(self.target, self.target)# to initialize with something\n",
        "\n",
        "        def forward(self, input):\n",
        "            G = gram_matrix(input)\n",
        "            self.loss = F.mse_loss(G, self.target)\n",
        "            return input"
      ],
      "execution_count": 0,
      "outputs": []
    },
    {
      "cell_type": "code",
      "metadata": {
        "id": "NJim3bLCpDl0",
        "colab_type": "code",
        "colab": {}
      },
      "source": [
        "cnn_normalization_mean = torch.tensor([0.485, 0.456, 0.406]).to(device)\n",
        "cnn_normalization_std = torch.tensor([0.229, 0.224, 0.225]).to(device)"
      ],
      "execution_count": 0,
      "outputs": []
    },
    {
      "cell_type": "code",
      "metadata": {
        "id": "Iv92j_lFpIsR",
        "colab_type": "code",
        "colab": {}
      },
      "source": [
        "content_layers_default = ['conv_4']\n",
        "style_layers_default = ['conv_1', 'conv_2', 'conv_3', 'conv_4', 'conv_5']"
      ],
      "execution_count": 0,
      "outputs": []
    },
    {
      "cell_type": "markdown",
      "metadata": {
        "id": "i6gcydgJtyMU",
        "colab_type": "text"
      },
      "source": [
        "##Загрузка модели"
      ]
    },
    {
      "cell_type": "code",
      "metadata": {
        "id": "76S2eVlspLf0",
        "colab_type": "code",
        "colab": {}
      },
      "source": [
        "cnn = models.vgg19(pretrained=True).features.to(device).eval()"
      ],
      "execution_count": 0,
      "outputs": []
    },
    {
      "cell_type": "markdown",
      "metadata": {
        "id": "oLI2OYC-t5Rb",
        "colab_type": "text"
      },
      "source": [
        "##Функции для переноса стиля"
      ]
    },
    {
      "cell_type": "code",
      "metadata": {
        "id": "XqLZRp9UpOtC",
        "colab_type": "code",
        "colab": {}
      },
      "source": [
        "def get_style_model_and_losses(cnn, normalization_mean, normalization_std,\n",
        "                                   style_img, content_img,\n",
        "                                   content_layers=content_layers_default,\n",
        "                                   style_layers=style_layers_default):\n",
        "        cnn = copy.deepcopy(cnn)\n",
        "\n",
        "        # normalization module\n",
        "        normalization = Normalization(normalization_mean, normalization_std).to(device)\n",
        "\n",
        "        # just in order to have an iterable access to or list of content/syle\n",
        "        # losses\n",
        "        content_losses = []\n",
        "        style_losses = []\n",
        "\n",
        "        # assuming that cnn is a nn.Sequential, so we make a new nn.Sequential\n",
        "        # to put in modules that are supposed to be activated sequentially\n",
        "        model = nn.Sequential(normalization)\n",
        "\n",
        "        i = 0  # increment every time we see a conv\n",
        "        for layer in cnn.children():\n",
        "            if isinstance(layer, nn.Conv2d):\n",
        "                i += 1\n",
        "                name = 'conv_{}'.format(i)\n",
        "            elif isinstance(layer, nn.ReLU):\n",
        "                name = 'relu_{}'.format(i)\n",
        "                # The in-place version doesn't play very nicely with the ContentLoss\n",
        "                # and StyleLoss we insert below. So we replace with out-of-place\n",
        "                # ones here.\n",
        "                #Переопределим relu уровень\n",
        "                layer = nn.ReLU(inplace=False)\n",
        "            elif isinstance(layer, nn.MaxPool2d):\n",
        "                name = 'pool_{}'.format(i)\n",
        "            elif isinstance(layer, nn.BatchNorm2d):\n",
        "                name = 'bn_{}'.format(i)\n",
        "            else:\n",
        "                raise RuntimeError('Unrecognized layer: {}'.format(layer.__class__.__name__))\n",
        "\n",
        "            model.add_module(name, layer)\n",
        "\n",
        "            if name in content_layers:\n",
        "                # add content loss:\n",
        "                target = model(content_img).detach()\n",
        "                content_loss = ContentLoss(target)\n",
        "                model.add_module(\"content_loss_{}\".format(i), content_loss)\n",
        "                content_losses.append(content_loss)\n",
        "\n",
        "            if name in style_layers:\n",
        "                # add style loss:\n",
        "                target_feature = model(style_img).detach()\n",
        "                style_loss = StyleLoss(target_feature)\n",
        "                model.add_module(\"style_loss_{}\".format(i), style_loss)\n",
        "                style_losses.append(style_loss)\n",
        "\n",
        "        # now we trim off the layers after the last content and style losses\n",
        "        #выбрасываем все уровни после последенего styel loss или content loss\n",
        "        for i in range(len(model) - 1, -1, -1):\n",
        "            if isinstance(model[i], ContentLoss) or isinstance(model[i], StyleLoss):\n",
        "                break\n",
        "\n",
        "        model = model[:(i + 1)]\n",
        "\n",
        "        return model, style_losses, content_losses"
      ],
      "execution_count": 0,
      "outputs": []
    },
    {
      "cell_type": "code",
      "metadata": {
        "id": "UY6wBdbJpRDI",
        "colab_type": "code",
        "colab": {}
      },
      "source": [
        "def get_input_optimizer(input_img):\n",
        "        # this line to show that input is a parameter that requires a gradient\n",
        "        #добоваляет содержимое тензора катринки в список изменяемых оптимизатором параметров\n",
        "        optimizer = optim.LBFGS([input_img.requires_grad_()]) \n",
        "        return optimizer"
      ],
      "execution_count": 0,
      "outputs": []
    },
    {
      "cell_type": "code",
      "metadata": {
        "id": "RPgki126pGS2",
        "colab_type": "code",
        "colab": {}
      },
      "source": [
        "class Normalization(nn.Module):\n",
        "        def __init__(self, mean, std):\n",
        "            super(Normalization, self).__init__()\n",
        "            # .view the mean and std to make them [C x 1 x 1] so that they can\n",
        "            # directly work with image Tensor of shape [B x C x H x W].\n",
        "            # B is batch size. C is number of channels. H is height and W is width.\n",
        "            self.mean = torch.tensor(mean).view(-1, 1, 1)\n",
        "            self.std = torch.tensor(std).view(-1, 1, 1)\n",
        "\n",
        "        def forward(self, img):\n",
        "            # normalize img\n",
        "            return (img - self.mean) / self.std"
      ],
      "execution_count": 0,
      "outputs": []
    },
    {
      "cell_type": "code",
      "metadata": {
        "id": "b2yw0cET7n3i",
        "colab_type": "code",
        "colab": {}
      },
      "source": [
        "def imsave(tensor, title=\"out.jpg\"):\n",
        "    image = tensor.cpu().clone()\n",
        "    image = image.squeeze(0)      # функция для сохранения изображения\n",
        "    image = unloader(image)\n",
        "    image.save(title+\".jpg\", \"JPEG\", quality=100, optimize=True, progressive=True)"
      ],
      "execution_count": 0,
      "outputs": []
    },
    {
      "cell_type": "markdown",
      "metadata": {
        "id": "kj45uRur0AwR",
        "colab_type": "text"
      },
      "source": [
        "##Перенос стиля\n",
        " "
      ]
    },
    {
      "cell_type": "code",
      "metadata": {
        "id": "gkximbQ8pSxf",
        "colab_type": "code",
        "colab": {}
      },
      "source": [
        "def run_style_transfer(update, cnn, normalization_mean, normalization_std,\n",
        "                        content_img, style_img, input_img, num_steps=500,\n",
        "                        style_weight=100000, content_weight=1):\n",
        "        \"\"\"Run the style transfer.\"\"\"\n",
        "        print('Building the style transfer model..')\n",
        "        model, style_losses, content_losses = get_style_model_and_losses(cnn,\n",
        "            normalization_mean, normalization_std, style_img, content_img)\n",
        "        optimizer = get_input_optimizer(input_img)\n",
        "\n",
        "        print('Optimizing..')\n",
        "        run = [0]\n",
        "        while run[0] <= num_steps:\n",
        "\n",
        "            def closure():\n",
        "                # correct the values \n",
        "                # это для того, чтобы значения тензора картинки не выходили за пределы [0;1]\n",
        "                input_img.data.clamp_(0, 1)\n",
        "\n",
        "                optimizer.zero_grad()\n",
        "\n",
        "                model(input_img)\n",
        "\n",
        "                style_score = 0\n",
        "                content_score = 0\n",
        "\n",
        "                for sl in style_losses:\n",
        "                    style_score += sl.loss\n",
        "                for cl in content_losses:\n",
        "                    content_score += cl.loss\n",
        "                \n",
        "                #взвешивание ощибки\n",
        "                style_score *= style_weight\n",
        "                content_score *= content_weight\n",
        "\n",
        "                loss = style_score + content_score\n",
        "                loss.backward()\n",
        "\n",
        "                run[0] += 1\n",
        "                if run[0] % 100 == 0:\n",
        "                    '''plt.figure()\n",
        "                    imshow(input_img, title='Output Image')\n",
        "                    plt.ioff()\n",
        "                    plt.show()    '''\n",
        "\n",
        "                    print(\"run {}:\".format(run))\n",
        "                    print('Style Loss : {:4f} Content Loss: {:4f}'.format(\n",
        "                        style_score.item(), content_score.item()))\n",
        "                    print()\n",
        "                    if run[0] == 100: update.message.reply_text('Please wait...100 of 500 itearations are done')\n",
        "                    if run[0] == 200: update.message.reply_text('I am still working...200 of 500 itearations are done')\n",
        "                    if run[0] == 300: update.message.reply_text('Wait a liitle bit...300 of 500 itearations are done')\n",
        "                    if run[0] == 400: update.message.reply_text('The end is close...400 of 500 itearations are done')\n",
        "                    \n",
        "                    logger.info(\"Running\")\n",
        "\n",
        "                return style_score + content_score\n",
        "\n",
        "            optimizer.step(closure)\n",
        "\n",
        "        # a last correction...\n",
        "        input_img.data.clamp_(0, 1)\n",
        "\n",
        "        return input_img"
      ],
      "execution_count": 0,
      "outputs": []
    },
    {
      "cell_type": "markdown",
      "metadata": {
        "id": "sL91d_V3tczA",
        "colab_type": "text"
      },
      "source": [
        "#Бот\n"
      ]
    },
    {
      "cell_type": "code",
      "metadata": {
        "id": "r9aSABrPP9mN",
        "colab_type": "code",
        "outputId": "a803ade6-ccd9-404b-e005-d0200f8f7244",
        "colab": {
          "base_uri": "https://localhost:8080/",
          "height": 811
        }
      },
      "source": [
        "#!/usr/bin/env python\n",
        "# -*- coding: utf-8 -*-\n",
        "# This program is dedicated to the public domain under the CC0 license.\n",
        "\n",
        "\"\"\"\n",
        "First, a few callback functions are defined. Then, those functions are passed to\n",
        "the Dispatcher and registered at their respective places.\n",
        "Then, the bot is started and runs until we press Ctrl-C on the command line.\n",
        "Usage:\n",
        "Example of a bot-user conversation using ConversationHandler.\n",
        "Send /start to initiate the conversation.\n",
        "Press Ctrl-C on the command line or send a signal to the process to stop the\n",
        "bot.\n",
        "\"\"\"\n",
        "\n",
        "import logging\n",
        "\n",
        "from telegram import (ReplyKeyboardMarkup, ReplyKeyboardRemove)\n",
        "from telegram.ext import (Updater, CommandHandler, MessageHandler, Filters,\n",
        "                          ConversationHandler)\n",
        "\n",
        "# Enable logging\n",
        "logging.basicConfig(format='%(asctime)s - %(name)s - %(levelname)s - %(message)s',\n",
        "                    level=logging.INFO)\n",
        "\n",
        "logger = logging.getLogger(__name__)\n",
        "\n",
        "CONTENT, STYLE, PROCESS = range(3)\n",
        "\n",
        "\n",
        "def start(update, context):\n",
        "    \n",
        "    update.message.reply_text(\n",
        "        'Hi! My name is Artistic Bot. I will darw a picrure for you'\n",
        "        'Send /cancel to stop talking to me.\\n\\n'\n",
        "        'Send me content image')\n",
        "    return CONTENT\n",
        "\n",
        "\n",
        "def content(update, context):\n",
        "    user = update.message.from_user\n",
        "    photo_file = update.message.photo[-1].get_file()\n",
        "    photo_file.download('content.jpg')\n",
        "    #logger.info(\"Photo of %s: %s\", user.first_name, 'user_photo.jpg')\n",
        "    update.message.reply_text('Now please send me your style image')\n",
        "\n",
        "    return STYLE\n",
        "\n",
        "def style(update, context):\n",
        "    user = update.message.from_user\n",
        "    photo_file = update.message.photo[-1].get_file()\n",
        "    photo_file.download('style.jpg')\n",
        "    #logger.info(\"Photo of %s: %s\", user.first_name, 'user_photo.jpg')\n",
        "    update.message.reply_text('Thank you! Begin to process images. Wait for a couple of minutes.')\n",
        "\n",
        "    style_img = image_loader(\"/content/style.jpg\")# as well as here\n",
        "    content_img = image_loader(\"/content/content.jpg\")#измените путь на тот который у вас.\n",
        "    logger.info(\"Images uploaded\")\n",
        "\n",
        "    input_img = content_img.clone()\n",
        "    # if you want to use white noise instead uncomment the below line:\n",
        "    # input_img = torch.randn(content_img.data.size(), device=device)\n",
        "\n",
        "    # add the original input image to the figure:\n",
        "    #plt.figure()\n",
        "    #imshow(input_img, title='Input Image')\n",
        "    output = run_style_transfer(update, cnn, cnn_normalization_mean, cnn_normalization_std,\n",
        "                                content_img, style_img, input_img)\n",
        "    logger.info(\"Style transfer complete\")\n",
        "\n",
        "    plt.figure()\n",
        "    imshow(output, title='Output Image')\n",
        "    imsave(output, '/content/output')\n",
        "    # sphinx_gallery_thumbnail_number = 4\n",
        "    plt.ioff()\n",
        "    plt.show()\n",
        "\n",
        "    context.bot.send_photo(chat_id=update.effective_chat.id, photo=open('/content/output.jpg', 'rb'))\n",
        "\n",
        "    return PROCESS\n",
        "\n",
        "\n",
        "def process(update, context):\n",
        "    \n",
        "    return ConversationHandler.END\n",
        "\n",
        "\n",
        "def cancel(update, context):\n",
        "    user = update.message.from_user\n",
        "    logger.info(\"User %s canceled the conversation.\", user.first_name)\n",
        "    update.message.reply_text('Bye! I hope we can talk again some day.',\n",
        "                              reply_markup=ReplyKeyboardRemove())\n",
        "\n",
        "    return ConversationHandler.END\n",
        "\n",
        "\n",
        "def error(update, context):\n",
        "    \"\"\"Log Errors caused by Updates.\"\"\"\n",
        "    logger.warning('Update \"%s\" caused error \"%s\"', update, context.error)\n",
        "\n",
        "\n",
        "def main():\n",
        "    # Create the Updater and pass it your bot's token.\n",
        "    # Make sure to set use_context=True to use the new context based callbacks\n",
        "    # Post version 12 this will no longer be necessary\n",
        "    updater = Updater(\"1084285882:AAG9-7MTQSOd2V8VEZ0wIyf6PJu-fzNNQCw\", use_context=True)\n",
        "\n",
        "    # Get the dispatcher to register handlers\n",
        "    dp = updater.dispatcher\n",
        "\n",
        "    \n",
        "    # Add conversation handler with the states GENDER, PHOTO, LOCATION and BIO\n",
        "    conv_handler = ConversationHandler(\n",
        "        entry_points=[CommandHandler('start', start)],\n",
        "\n",
        "        states={\n",
        "            CONTENT: [MessageHandler(Filters.photo, content)],\n",
        "\n",
        "            STYLE: [MessageHandler(Filters.photo, style)],\n",
        "\n",
        "            PROCESS: [MessageHandler(Filters.text, process)]\n",
        "            \n",
        "            #LOCATION: [MessageHandler(Filters.location, location),\n",
        "             #          CommandHandler('skip', skip_location)],\n",
        "\n",
        "            #BIO: [MessageHandler(Filters.text, bio2)]\n",
        "        },\n",
        "\n",
        "        fallbacks=[CommandHandler('cancel', cancel)]\n",
        "    )\n",
        "\n",
        "    dp.add_handler(conv_handler)\n",
        "\n",
        "    # log all errors\n",
        "    dp.add_error_handler(error)\n",
        "\n",
        "    # Start the Bot\n",
        "    updater.start_polling()\n",
        "\n",
        "    # Run the bot until you press Ctrl-C or the process receives SIGINT,\n",
        "    # SIGTERM or SIGABRT. This should be used most of the time, since\n",
        "    # start_polling() is non-blocking and will stop the bot gracefully.\n",
        "    updater.idle()\n",
        "\n",
        "\n",
        "if __name__ == '__main__':\n",
        "    main()"
      ],
      "execution_count": 0,
      "outputs": [
        {
          "output_type": "stream",
          "text": [
            "2020-02-05 06:22:39,848 - __main__ - INFO - Images uploaded\n",
            "/usr/local/lib/python3.6/dist-packages/ipykernel_launcher.py:7: UserWarning: To copy construct from a tensor, it is recommended to use sourceTensor.clone().detach() or sourceTensor.clone().detach().requires_grad_(True), rather than torch.tensor(sourceTensor).\n",
            "  import sys\n",
            "/usr/local/lib/python3.6/dist-packages/ipykernel_launcher.py:8: UserWarning: To copy construct from a tensor, it is recommended to use sourceTensor.clone().detach() or sourceTensor.clone().detach().requires_grad_(True), rather than torch.tensor(sourceTensor).\n",
            "  \n"
          ],
          "name": "stderr"
        },
        {
          "output_type": "stream",
          "text": [
            "Building the style transfer model..\n",
            "Optimizing..\n"
          ],
          "name": "stdout"
        },
        {
          "output_type": "stream",
          "text": [
            "2020-02-05 06:23:14,018 - __main__ - INFO - Running\n"
          ],
          "name": "stderr"
        },
        {
          "output_type": "stream",
          "text": [
            "run [100]:\n",
            "Style Loss : 4.775281 Content Loss: 13.682995\n",
            "\n"
          ],
          "name": "stdout"
        },
        {
          "output_type": "stream",
          "text": [
            "2020-02-05 06:23:47,300 - __main__ - INFO - Running\n"
          ],
          "name": "stderr"
        },
        {
          "output_type": "stream",
          "text": [
            "run [200]:\n",
            "Style Loss : 2.591455 Content Loss: 12.163542\n",
            "\n"
          ],
          "name": "stdout"
        },
        {
          "output_type": "stream",
          "text": [
            "2020-02-05 06:24:21,883 - __main__ - INFO - Running\n"
          ],
          "name": "stderr"
        },
        {
          "output_type": "stream",
          "text": [
            "run [300]:\n",
            "Style Loss : 2.208464 Content Loss: 11.653212\n",
            "\n"
          ],
          "name": "stdout"
        },
        {
          "output_type": "stream",
          "text": [
            "2020-02-05 06:24:55,051 - __main__ - INFO - Running\n"
          ],
          "name": "stderr"
        },
        {
          "output_type": "stream",
          "text": [
            "run [400]:\n",
            "Style Loss : 2.084278 Content Loss: 11.445030\n",
            "\n"
          ],
          "name": "stdout"
        },
        {
          "output_type": "stream",
          "text": [
            "2020-02-05 06:25:28,309 - __main__ - INFO - Running\n"
          ],
          "name": "stderr"
        },
        {
          "output_type": "stream",
          "text": [
            "run [500]:\n",
            "Style Loss : 2.025434 Content Loss: 11.340652\n",
            "\n"
          ],
          "name": "stdout"
        },
        {
          "output_type": "stream",
          "text": [
            "2020-02-05 06:25:34,805 - __main__ - INFO - Style transfer complete\n"
          ],
          "name": "stderr"
        },
        {
          "output_type": "display_data",
          "data": {
            "image/png": "[encoded data removed]",
            "text/plain": [
              "<Figure size 432x288 with 1 Axes>"
            ]
          },
          "metadata": {
            "tags": [],
            "needs_background": "light"
          }
        },
        {
          "output_type": "stream",
          "text": [
            "2020-02-05 06:26:04,151 - telegram.ext.updater - INFO - Received signal 2 (SIGINT), stopping...\n",
            "2020-02-05 06:26:08,757 - telegram.ext.updater - WARNING - Exiting immediately!\n"
          ],
          "name": "stderr"
        }
      ]
    }
  ]
}